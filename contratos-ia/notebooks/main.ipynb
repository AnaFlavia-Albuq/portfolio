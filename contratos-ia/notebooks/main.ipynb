{
 "cells": [
  {
   "cell_type": "code",
   "execution_count": 1,
   "id": "1272840f",
   "metadata": {},
   "outputs": [],
   "source": [
    "import sys\n",
    "sys.path.append('../src')\n",
    "import functions\n",
    "from functions import *"
   ]
  },
  {
   "cell_type": "code",
   "execution_count": 2,
   "id": "3fa339c6",
   "metadata": {},
   "outputs": [
    {
     "name": "stderr",
     "output_type": "stream",
     "text": [
      "2025-09-29 17:35:45,437 - INFO - detected formats: [<InputFormat.PDF: 'pdf'>]\n",
      "2025-09-29 17:35:45,478 - INFO - Going to convert document batch...\n",
      "2025-09-29 17:35:45,478 - INFO - Initializing pipeline for StandardPdfPipeline with options hash 644837841fc153e9b542646b5a5a358a\n",
      "2025-09-29 17:35:45,581 - INFO - Loading plugin 'docling_defaults'\n",
      "2025-09-29 17:35:45,586 - INFO - Registered picture descriptions: ['vlm', 'api']\n",
      "2025-09-29 17:35:45,738 - INFO - Loading plugin 'docling_defaults'\n",
      "2025-09-29 17:35:45,746 - INFO - Registered ocr engines: ['easyocr', 'ocrmac', 'rapidocr', 'tesserocr', 'tesseract']\n",
      "2025-09-29 17:35:45,778 - INFO - command: C:\\Program Files\\Tesseract-OCR\\tesseract.exe --list-langs\n",
      "2025-09-29 17:35:45,896 - INFO - Accelerator device: 'cpu'\n",
      "2025-09-29 17:35:47,816 - INFO - Accelerator device: 'cpu'\n",
      "2025-09-29 17:35:48,372 - INFO - Processing document Condomínio.pdf\n",
      "2025-09-29 17:35:49,668 - INFO - command: C:\\Program Files\\Tesseract-OCR\\tesseract.exe --psm 0 -l osd C:\\Users\\flavi\\AppData\\Local\\Temp\\tmpypveicbg.png stdout\n",
      "2025-09-29 17:35:51,408 - INFO - command: C:\\Program Files\\Tesseract-OCR\\tesseract.exe -l fra+deu+spa+eng C:\\Users\\flavi\\AppData\\Local\\Temp\\tmpypveicbg.png stdout tsv\n",
      "2025-09-29 17:35:56,119 - INFO - Finished converting document Condomínio.pdf in 10.69 sec.\n"
     ]
    },
    {
     "name": "stdout",
     "output_type": "stream",
     "text": [
      "Markdown salvo: ..\\data\\output\\Condomínio.md\n"
     ]
    }
   ],
   "source": [
    "#Executa OCR de arquivos\n",
    "arquivo = Path(\"../data/Condomínio.pdf\")\n",
    "executa_ocr(arquivo)"
   ]
  },
  {
   "cell_type": "code",
   "execution_count": null,
   "id": "38e81e58",
   "metadata": {},
   "outputs": [
    {
     "name": "stdout",
     "output_type": "stream",
     "text": [
      "## DÚVIDAS FREQUENTES\n",
      "\n",
      "<!-- image -->\n",
      "\n",
      "A  partir  de  21/08/2023  o  acesso  ao  condomínio  e  a  mudança  estarão  liberados,  mas  é  necessário  consultar  as  regras  com  a administradora e síndico. A área comum não deve ser usada sem alinhamento com o síndico e com a administradora. Veja abaixo algumas informações importantes:\n",
      "\n",
      "## Dados síndico e administradora\n",
      "\n",
      "Síndico: Nome do síndico\n",
      "\n",
      "Telefone: (99) 99999-9999\n",
      "\n",
      "E-mail: condominio@condominio.com\n",
      "\n",
      "Administradora: Administradora de Condomínio\n",
      "\n",
      "Telefone: (99) 3333-3333\n",
      "\n",
      "E-mail: administradora@condominios.com.br\n",
      "\n",
      "## Taxa Condominial\n",
      "\n",
      "A primeira taxa condominial terá vencimento no dia 10/09/2023, referente à pro rata do mês de Agosto/202\n"
     ]
    }
   ],
   "source": [
    "# Realiza a leitura do arquivo markdown\n",
    "caminho = \"../data/output/Condomínio.md\"\n",
    "conteudo = ler_arquivo_md(caminho)"
   ]
  },
  {
   "cell_type": "code",
   "execution_count": null,
   "id": "be563003",
   "metadata": {},
   "outputs": [
    {
     "data": {
      "text/plain": [
       "[Document(metadata={'Header1': 'DÚVIDAS FREQUENTES'}, page_content='<!-- image -->'),\n",
       " Document(metadata={'Header1': 'DÚVIDAS FREQUENTES'}, page_content='A  partir  de  21/08/2023  o  acesso  ao  condomínio  e  a  mudança  estarão  liberados,  mas  é  necessário  consultar  as  regras  com  a administradora e síndico. A área comum não deve ser usada sem alinhamento com o síndico e com a administradora. Veja abaixo algumas informações importantes:'),\n",
       " Document(metadata={'Header1': 'Dados síndico e administradora'}, page_content='Síndico: Nome do síndico'),\n",
       " Document(metadata={'Header1': 'Dados síndico e administradora'}, page_content='Telefone: (99) 99999-9999'),\n",
       " Document(metadata={'Header1': 'Dados síndico e administradora'}, page_content='E-mail: condominio@condominio.com'),\n",
       " Document(metadata={'Header1': 'Dados síndico e administradora'}, page_content='Administradora: Administradora de Condomínio'),\n",
       " Document(metadata={'Header1': 'Dados síndico e administradora'}, page_content='Telefone: (99) 3333-3333'),\n",
       " Document(metadata={'Header1': 'Dados síndico e administradora'}, page_content='E-mail: administradora@condominios.com.br'),\n",
       " Document(metadata={'Header1': 'Taxa Condominial'}, page_content='A primeira taxa condominial terá vencimento no dia 10/09/2023, referente à pro rata do mês de Agosto/2023 (21 a 31/08) e ao mês de Setembro/2023 (07 a 31/08). Os demais vencimentos serão em todo dia 10. Para retirada do boleto, é necessário que verifique junto à administradora através dos contatos informados acima.'),\n",
       " Document(metadata={'Header1': 'Água'}, page_content='Cada unidade está equipada com um hidrômetro individual para medição do consumo. No entanto, a concessionária local realiza apenas a leitura do hidrômetro geral. Sendo responsabilidade do condomínio fazer o rateio do consumo proporcional para cada apartamento.'),\n",
       " Document(metadata={'Header1': 'Gás'}, page_content='O condomínio tem abrigo para botijão de P -13, com isso cada cliente deve adquirir um botijão deste modelo.'),\n",
       " Document(metadata={'Header1': 'Ligação de energia'}, page_content='Cada proprietário deverá solicitar a ligação de energia do seu apartamento junto a concessionária local. Para pedir a primeira ligação de energia, deverá ser apresentado documentos pessoais do titular e documentos do imóvel. As informações técnicas necessárias para a solicitação estão no capítulo Primeira Orientação do Manual do Proprietário.'),\n",
       " Document(metadata={'Header1': 'No dia da entrega das chaves'}, page_content='- Caso leve crianças, tome bastante cuidado ao circular pelo empreendimento;\\n- Após receber suas chaves, poderá ir até a unidade, lembrando que se abrir as janelas você deve fechá-las, evitando danos (chuva, ventos e etc), que a partir do recebimento são de sua responsabilidade.'),\n",
       " Document(metadata={'Header1': 'Como solicitar um reparo'}, page_content='A partir do dia 23/08, os pedidos deverão ser abertos pelo Portal do Cliente, o Pode Morar em SOLICITAÇÕES &gt; CRIAR NOVA SOLICITAÇÃO &gt; ASSISTENCIA TÉCNICA.'),\n",
       " Document(metadata={'Header1': 'Como solicitar um reparo'}, page_content='Importante: Lembre- se de acessar o manual do proprietário (além de estar no portal do cliente) você pode acessá-lo através de um adesivo com QRCode no quadro de energia dentro da sua unidade. Veja tudo antes para evitar perda de garantia. Nele também você encontra informações de como ligar energia, as orientações ficam nas primeiras páginas.'),\n",
       " Document(metadata={'Header1': 'Como solicitar um reparo'}, page_content='É fundamental que você troque o segredo da fechadura da sua unidade para sua própria segurança o quanto antes.'),\n",
       " Document(metadata={'Header1': 'Vagas de Garagem'}, page_content='O empreendimento possui 640 vagas de estacionamento, todas as unidade possuem direito de utilizar uma vaga de estacionamento.'),\n",
       " Document(metadata={'Header1': 'IPTU'}, page_content='O IPTU já está individualizado e poderá ser consultado junto ao site da prefeitura de Fortaleza.'),\n",
       " Document(metadata={'Header1': 'Contratos de Financiamento Registrados'}, page_content='Caso tenha realizado o financiamento com o banco, a via digital do contrato de financiamento estará disponível no nosso portal, o Pode Morar, após o registro. Será disponibilizado na aba Meu Imóvel &gt; Documentos &gt; Contrato de Financiamento.')]"
      ]
     },
     "execution_count": 10,
     "metadata": {},
     "output_type": "execute_result"
    }
   ],
   "source": [
    "# Faz o split do texto separando por markdonw\n",
    "docs = gera_split_texto(conteudo)\n",
    "docs"
   ]
  },
  {
   "cell_type": "code",
   "execution_count": 11,
   "id": "a9a756f7",
   "metadata": {},
   "outputs": [
    {
     "name": "stderr",
     "output_type": "stream",
     "text": [
      "Note: Environment variable`HF_TOKEN` is set and is the current active token independently from the token you've just configured.\n",
      "2025-09-29 17:38:02,264 - WARNING - Note: Environment variable`HF_TOKEN` is set and is the current active token independently from the token you've just configured.\n",
      "2025-09-29 17:38:05,418 - INFO - HTTP Request: POST https://api.openai.com/v1/chat/completions \"HTTP/1.1 200 OK\"\n"
     ]
    },
    {
     "name": "stdout",
     "output_type": "stream",
     "text": [
      "O nome da administradora do condomínio é \"Administradora de Condomínio\" e o número do telefone é \"(99) 3333-3333\".\n"
     ]
    }
   ],
   "source": [
    "chat = \"Qual o nome e o número do telefone da administradora do condomínio mencionado no texto?\"\n",
    "resposta = responder_gpt(chat, docs)\n",
    "print(resposta)"
   ]
  },
  {
   "cell_type": "code",
   "execution_count": 12,
   "id": "9f383058",
   "metadata": {},
   "outputs": [
    {
     "name": "stderr",
     "output_type": "stream",
     "text": [
      "Note: Environment variable`HF_TOKEN` is set and is the current active token independently from the token you've just configured.\n",
      "2025-09-29 17:38:10,862 - WARNING - Note: Environment variable`HF_TOKEN` is set and is the current active token independently from the token you've just configured.\n",
      "2025-09-29 17:38:12,276 - INFO - HTTP Request: POST https://api.openai.com/v1/chat/completions \"HTTP/1.1 200 OK\"\n"
     ]
    },
    {
     "name": "stdout",
     "output_type": "stream",
     "text": [
      "O nome do síndico é \"Nome do síndico\" e o número do telefone é (99) 99999-9999.\n"
     ]
    }
   ],
   "source": [
    "chat = \"Qual o nome e o número do telefone do síndico do condomínio mencionado no texto?\"\n",
    "resposta = responder_gpt(chat, docs)\n",
    "print(resposta)"
   ]
  },
  {
   "cell_type": "code",
   "execution_count": 13,
   "id": "5a80a5bc",
   "metadata": {},
   "outputs": [
    {
     "name": "stderr",
     "output_type": "stream",
     "text": [
      "Note: Environment variable`HF_TOKEN` is set and is the current active token independently from the token you've just configured.\n",
      "2025-09-29 17:38:14,719 - WARNING - Note: Environment variable`HF_TOKEN` is set and is the current active token independently from the token you've just configured.\n",
      "2025-09-29 17:38:17,191 - INFO - HTTP Request: POST https://api.openai.com/v1/chat/completions \"HTTP/1.1 200 OK\"\n"
     ]
    },
    {
     "name": "stdout",
     "output_type": "stream",
     "text": [
      "A informação mais relevante que os moradores não podem esquecer é que a partir de 21/08/2023, o acesso ao condomínio e a mudança estarão liberados, mas é necessário consultar as regras com a administradora e o síndico antes de utilizar a área comum. Além disso, é fundamental que os moradores troquem o segredo da fechadura da sua unidade para sua própria segurança o quanto antes.\n"
     ]
    }
   ],
   "source": [
    "chat = \"Qual a informação mais relevante que os moradores não podem esquecer?\"\n",
    "resposta = responder_gpt(chat, docs)\n",
    "print(resposta)"
   ]
  },
  {
   "cell_type": "code",
   "execution_count": 14,
   "id": "c41fb626",
   "metadata": {},
   "outputs": [
    {
     "name": "stderr",
     "output_type": "stream",
     "text": [
      "Note: Environment variable`HF_TOKEN` is set and is the current active token independently from the token you've just configured.\n",
      "2025-09-29 17:38:19,241 - WARNING - Note: Environment variable`HF_TOKEN` is set and is the current active token independently from the token you've just configured.\n",
      "2025-09-29 17:38:19,850 - INFO - HTTP Request: POST https://api.openai.com/v1/chat/completions \"HTTP/1.1 429 Too Many Requests\"\n",
      "2025-09-29 17:38:19,854 - INFO - Retrying request to /chat/completions in 20.000000 seconds\n",
      "2025-09-29 17:38:40,128 - INFO - HTTP Request: POST https://api.openai.com/v1/chat/completions \"HTTP/1.1 429 Too Many Requests\"\n",
      "2025-09-29 17:38:40,134 - INFO - Retrying request to /chat/completions in 0.922886 seconds\n",
      "2025-09-29 17:38:41,768 - INFO - HTTP Request: POST https://api.openai.com/v1/chat/completions \"HTTP/1.1 200 OK\"\n"
     ]
    },
    {
     "name": "stdout",
     "output_type": "stream",
     "text": [
      "O empreendimento possui 640 vagas de estacionamento.\n"
     ]
    }
   ],
   "source": [
    "chat = \"Quantas vagas de estacionamento contém no condomínio?\"\n",
    "resposta = responder_gpt(chat, docs)\n",
    "print(resposta)"
   ]
  }
 ],
 "metadata": {
  "kernelspec": {
   "display_name": "base",
   "language": "python",
   "name": "python3"
  },
  "language_info": {
   "codemirror_mode": {
    "name": "ipython",
    "version": 3
   },
   "file_extension": ".py",
   "mimetype": "text/x-python",
   "name": "python",
   "nbconvert_exporter": "python",
   "pygments_lexer": "ipython3",
   "version": "3.11.7"
  }
 },
 "nbformat": 4,
 "nbformat_minor": 5
}
